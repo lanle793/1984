{
 "cells": [
  {
   "cell_type": "code",
   "execution_count": 1,
   "metadata": {},
   "outputs": [],
   "source": [
    "import face_recognition\n",
    "import cv2\n",
    "import numpy as np\n",
    "import os\n",
    "import glob"
   ]
  },
  {
   "cell_type": "code",
   "execution_count": 3,
   "metadata": {},
   "outputs": [],
   "source": [
    "# Import images\n",
    "faces_encodings = []\n",
    "face_names = []\n",
    "face_locations = []\n",
    "process_this_frame = True\n",
    "\n",
    "cur_dir = os.getcwd()\n",
    "train_path = os.path.join(cur_dir, 'data/train/')\n",
    "test_path = os.path.join(cur_dir, 'data/test/')\n",
    "train_file_list = [f for f in glob.glob(train_path + '*.jpeg')]\n",
    "num_of_files = len(train_file_list)\n",
    "names = train_file_list.copy()"
   ]
  },
  {
   "cell_type": "code",
   "execution_count": null,
   "metadata": {},
   "outputs": [],
   "source": [
    "# Perform training\n",
    "for i in range(num_of_files):\n",
    "    globals()['image_{}'.format(i)] = face_recognition.load_image_file(train_file_list[i])\n",
    "    globals()['image_encoding_{}'.format(i)] = face_recognition.face_encodings(globals()['image_{}'.format(i)])[0]\n",
    "    faces_encodings.append(globals()['image_encoding_{}'.format(i)])\n",
    "\n",
    "    # Create array of known names\n",
    "    names[i] = names[i].replace(cur_direc, \"\")  \n",
    "    face_names.append(names[i])"
   ]
  },
  {
   "cell_type": "code",
   "execution_count": 7,
   "metadata": {},
   "outputs": [
    {
     "name": "stdout",
     "output_type": "stream",
     "text": [
      "[True]\n"
     ]
    }
   ],
   "source": [
    "tr_image = face_recognition.load_image_file(train_path + 'Trinh.jpeg')\n",
    "unknown_image = face_recognition.load_image_file(test_path + 'IMG_2145.jpeg')\n",
    "tr_encoding = face_recognition.face_encodings(tr_image)[0]\n",
    "unknown_encoding = face_recognition.face_encodings(unknown_image)[0]\n",
    "\n",
    "result = face_recognition.compare_faces([tr_encoding], unknown_encoding)\n",
    "print(result)"
   ]
  },
  {
   "cell_type": "markdown",
   "metadata": {},
   "source": [
    "Reference: <br/>\n",
    "https://towardsdatascience.com/building-a-face-recognizer-in-python-7fd6630c6340 <br/>\n",
    "https://github.com/ageitgey/face_recognition"
   ]
  },
  {
   "cell_type": "code",
   "execution_count": null,
   "metadata": {},
   "outputs": [],
   "source": []
  }
 ],
 "metadata": {
  "kernelspec": {
   "display_name": "Python 3",
   "language": "python",
   "name": "python3"
  },
  "language_info": {
   "codemirror_mode": {
    "name": "ipython",
    "version": 3
   },
   "file_extension": ".py",
   "mimetype": "text/x-python",
   "name": "python",
   "nbconvert_exporter": "python",
   "pygments_lexer": "ipython3",
   "version": "3.6.10"
  }
 },
 "nbformat": 4,
 "nbformat_minor": 4
}
